#!/usr/bin/env python
# coding: utf-8

# In[1]:


import pandas as pd
import numpy as np
import matplotlib.pyplot as plt
get_ipython().run_line_magic('matplotlib', 'inline')
import seaborn as sns
import os


# In[3]:


customer = pd.read_csv("C://Users//harsh//OneDrive//Documents//Python Case Studies//Case Study 1 - Retail Case Study//Customer.csv")
prod_info = pd.read_csv("C://Users//harsh//OneDrive//Documents//Python Case Studies//Case Study 1 - Retail Case Study//prod_cat_info.csv")
transaction = pd.read_csv("C://Users//harsh//OneDrive//Documents//Python Case Studies//Case Study 1 - Retail Case Study//Transactions.csv")


# In[4]:


customer.head()


# In[5]:


prod_info.head()


# In[6]:


transaction.head()


# In[40]:


customer_final.isnull().sum()


# In[132]:


customer_final["DOB"] = pd.to_datetime(customer_final["DOB"], format="%d-%m-%Y")


# In[151]:


customer_final["tran_date"] = pd.to_datetime(customer_final["tran_date"])


# In[43]:


customer_final.duplicated().sum()


# In[44]:


# dropping duplicate rows
customer_final.drop_duplicates(inplace=True)


# In[45]:


customer_final.duplicated().sum()


# In[46]:


prod_info.rename(columns={"prod_sub_cat_code":"prod_subcat_code"},inplace=True)


# In[47]:


prod_info.head(2)


# In[48]:


prod_concat = pd.merge(left=transaction, right=prod_info,on=["prod_cat_code","prod_subcat_code"],how="left")


# In[49]:


prod_concat.head(3)


# In[50]:


customer_final = pd.merge(left=prod_concat, right=customer,right_on="customer_Id", left_on="cust_id", how="left")


# In[51]:


customer_final.head()


# In[52]:


customer_final.columns


# In[53]:


customer_final.shape


# In[54]:


transaction.shape


# In[55]:


# 2 (a). Get the column names and their corresponding data types
customer_final.dtypes


# In[56]:


#b. Top 10 observations
customer_final.head(10)


# In[57]:


# (b). Bottom 10 observations
customer_final.tail(10)


# In[58]:


# (c) “Five-number summary” for continuous variables (min, Q1, median, Q3 and max)
customer_final.describe()


# In[59]:


# (d) Frequency tables for all the categorical variables
customer_final.loc[:,customer_final.dtypes=="object"].describe()


# In[60]:


# 3.  Generate histograms for all continuous variables and frequency bars for categorical variables
conti_customer = customer_final.loc[:,['prod_subcat_code','prod_cat_code', 'Qty', 'Rate', 'Tax', 'total_amt']]


# In[61]:


conti_customer.columns


# In[62]:


for var in conti_customer.columns:
    conti_customer[var].plot(kind='hist')
    plt.title(var)
    plt.show()


# In[63]:


category_customer = customer_final.loc[:,customer_final.dtypes=='object']


# In[36]:


category_customer.head()


# In[181]:


category_customer.Gender.count()


# In[197]:


plt.figure(figsize=(8,8))
sns.catplot(data = category_customer , x = "Gender" , kind = "count")
plt.show()


# In[198]:


plt.figure(figsize=(8,8))
sns.catplot(data = category_customer , x = "Store_type" , kind = "count")
plt.show()


# In[199]:


plt.figure(figsize=(8,8))
sns.catplot(data = category_customer , x = "prod_cat" , kind = "count")
plt.show()


# In[66]:


plt.figure(figsize=(8,8))
category_customer.groupby('prod_subcat')['prod_subcat'].count().plot(kind='barh')
plt.xlabel('Count')
plt.ylabel('Product Subcategory')
plt.show()


# In[67]:


# 4. Calculate the following information using the merged dataset:


# In[145]:


# (a) Time period of the available transaction data
customer_final.sort_values(by="tran_date")


# In[152]:


min_date = customer_final["tran_date"].min()


# In[153]:


min_date


# In[154]:


max_date = customer_final["tran_date"].max()


# In[155]:


max_date


# In[173]:


print("Time period of the available transaction data is from "+ pd.Timestamp.strftime(min_date,format="%d-%m-%Y") + " to " + pd.Timestamp.strftime(max_date,format="%d-%m-%Y"))


# In[84]:


# (b) count of transaction_ids where total_amt was negative
negative_transaction = customer_final.loc[customer_final["total_amt"] < 0,"transaction_id"].count()


# In[85]:


print("Count of transactions where the total amount of transaction was negative is",negative_transaction)


# In[86]:


# 5. Analyze which product categories are more popular among females vs male customers


# In[87]:


product_gender = customer_final.groupby(["Gender","prod_cat"])[["Qty"]].sum().reset_index()


# In[88]:


product_gender


# In[89]:


product_gender.pivot(index="Gender",columns="prod_cat",values="Qty")


# In[90]:


# 6. Which City code has the maximum customers and what was the percentage of customers from that city?


# In[91]:


customer_group = customer_final.groupby('city_code')['customer_Id'].count().sort_values(ascending =False)


# In[92]:


customer_group


# In[93]:


plt.figure(figsize=(8,5))
customer_group.plot(kind="bar")
plt.xlabel("City Code")
plt.ylabel("No. of customers")
plt.yticks(np.arange(0, 3500, step=500))
plt.show()


# In[95]:


percentage = round((customer_group[4.0] / customer_group.sum()) * 100,2)
percentage


# In[96]:


print("City code 4.0 has the maximum customers and the percentage of customers from that city is ",percentage)


# In[97]:


# 7. Which store type sells the maximum products by value and by quantity?


# In[171]:


customer_final.groupby("Store_type")["Qty","Rate"].sum().sort_values(by="Qty",ascending=False)


# In[99]:


# 8. What was the total amount earned from the "Electronics" and "Clothing" categories from Flagship Stores?


# In[101]:


store_group = round(customer_final.pivot_table(index = "prod_cat",columns="Store_type", values="total_amt", aggfunc='sum'),2)
store_group


# In[102]:


store_group.loc[["Clothing","Electronics"],"Flagship store"]


# In[103]:


store_group.loc[["Clothing","Electronics"],"Flagship store"].sum()


# In[104]:


# 9. What was the total amount earned from "Male" customers under the "Electronics" category?


# In[106]:


gender_group = round(customer_final.pivot_table(index = "prod_cat",columns="Gender", values="total_amt", aggfunc='sum'),2)
gender_group


# In[107]:


male_earning = gender_group.loc["Electronics","M"]


# In[108]:


print("The total amount earned from Male customers under the Electronics category is",male_earning)


# In[109]:


# 10. How many customers have more than 10 unique transactions, after removing all transactions which have any negative amounts?


# In[111]:


pos_trans = customer_final.loc[customer_final["total_amt"]>0,:]
pos_trans


# In[113]:


# creating a dataframe that contains unique transactions 
unique_trans = pos_trans.groupby(['customer_Id','prod_cat','prod_subcat'])['transaction_id'].count().reset_index()
unique_trans


# In[114]:


# now finding the customers which have unique transactions greater than 10
unique_trans_count = unique_trans.groupby('customer_Id')['transaction_id'].count().reset_index()
unique_trans_count.head()


# In[115]:


unique_trans_count[unique_trans_count['transaction_id'] > 10]


# In[116]:


print('There are no unique transactions greater than 10')


# In[117]:


# 11. For all customers aged between 25-35, find out:


# In[118]:


# (a) What was the total amount spent for 'Electronics' and 'Books' product categories?


# In[157]:


now = pd.Timestamp('now')
customer_final["DOB"] = pd.to_datetime(customer_final["DOB"], format="%d-%m-%Y")
customer_final['DOB'] = customer_final['DOB'].where(customer_final['DOB'] < now, customer_final['DOB'] -  np.timedelta64(100, 'Y'))
customer_final['AGE'] = (now - customer_final['DOB']).astype('<m8[Y]')


# In[158]:


customer_final.head()


# In[159]:


customer_final['Age_cat'] = pd.cut(customer_final['AGE'],bins=[24,35,46,57],labels=['25-35','36-46','47-57'],include_lowest=True)


# In[160]:


customer_final.head()


# In[161]:


# grouping the dataframe 'customer_final' on the basis of 'Age_cat' and 'prod_cat'
customer_25_35 = customer_final.groupby(['Age_cat','prod_cat'])['total_amt'].sum()


# In[162]:


customer_25_35


# In[163]:


customer_25_35.loc['25-35',['Books','Electronics']]


# In[164]:


print("Total amount spent on 'Electronics' and 'Books' product categories is", 
      customer_25_35.loc['25-35',['Books','Electronics']].sum().round(2))


# In[165]:


# filtering out data that belongs to the 'age_cat' = 25-35
customer_total_amount_25_35 = customer_final[customer_final['Age_cat']=='25-35']


# In[166]:


customer_total_amount_25_35.head()


# In[167]:


# (b) getting all the data with transaction date between 1st Jan 2014 to 1st Mar 2014?
total_amount = customer_total_amount_25_35[(customer_total_amount_25_35['tran_date'] >='2014-01-01') & (customer_total_amount_25_35['tran_date'] <='2014-03-01')]


# In[169]:


total_amount


# In[170]:


print('The total amount spent by customers aged 25-35 between 1st Jan 2014 to 1st Mar 2014 is',
      total_amount['total_amt'].sum())


# In[ ]:




